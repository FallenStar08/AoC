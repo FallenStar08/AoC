{
 "cells": [
  {
   "cell_type": "code",
   "execution_count": null,
   "metadata": {},
   "outputs": [],
   "source": [
    "\n",
    "import numpy\n",
    "\n",
    "word_to_find=\"XMAS\"\n",
    "\n",
    "test=\"\"\"S  S  S \n",
    " A A A \n",
    "  MMM  \n",
    "SAMXMAS\n",
    "  MMM  \n",
    " A A A \n",
    "S  S  S\"\"\"\n",
    "\n",
    "#could've done that shit without numpy in retrospective\n",
    "def count_xmas(data, word):\n",
    "    total=0\n",
    "    width,height=data.shape\n",
    "    data=numpy.array([list(row) for row in data])\n",
    "    print(width,height)\n",
    "    def count_word(line):\n",
    "        #Use regex instead? idk it works\n",
    "        return line.count(word) + line[::-1].count(word)\n",
    "\n",
    "    for i in range(width):\n",
    "        total += count_word(''.join(data[i]))\n",
    "        total += count_word(''.join(data[:, i]))\n",
    "        \n",
    "    #idk what the fuck i'm doing (it works)\n",
    "    for diag in range(-width + 1, height):\n",
    "        total += count_word(''.join(data.diagonal(diag)))\n",
    "        total += count_word(''.join(numpy.fliplr(data).diagonal(diag)))\n",
    "\n",
    "    return total # 2569\n",
    "\n",
    "\n",
    "    \n",
    "\n",
    "\n"
   ]
  },
  {
   "cell_type": "code",
   "execution_count": 37,
   "metadata": {},
   "outputs": [
    {
     "data": {
      "text/plain": [
       "1998"
      ]
     },
     "execution_count": 37,
     "metadata": {},
     "output_type": "execute_result"
    }
   ],
   "source": [
    "\n",
    "def count_X_mas(data,word):\n",
    "    total=0\n",
    "    def search_X(row, col, word):\n",
    "        count = 0\n",
    "        if 0 <= row + 1 < len(data) and 0 <= row - 1 < len(data) and 0 <= col + 1 < len(data[0]) and 0 <= col - 1 < len(data[0]):\n",
    "            diag1 = data[row + 1][col - 1] + data[row][col] + data[row - 1][col + 1]\n",
    "            #print(diag1)\n",
    "            diag2 = data[row - 1][col - 1] + data[row][col] + data[row + 1][col + 1]\n",
    "            #print(diag2)\n",
    "            #print(f\"diag1 : {diag1} diag2 {diag2} \")\n",
    "            #fuck you operator precedence for ruining my life fuck youfuck youfuck youfuck youfuck youfuck youfuck youfuck youfuck youfuck youfuck youfuck youfuck youfuck youfuck youfuck youfuck youfuck youfuck youfuck youfuck youfuck youfuck youfuck youfuck youfuck youfuck youfuck youfuck youfuck youfuck youfuck youfuck youfuck youfuck youfuck youfuck youfuck youfuck youfuck youfuck youfuck youfuck youfuck youfuck youfuck youfuck youfuck youfuck youfuck youfuck youfuck youfuck youfuck youfuck youfuck youfuck youfuck youfuck youfuck youfuck youfuck youfuck youfuck youfuck youfuck youfuck youfuck you\n",
    "            if ((diag1 == word or diag1[::-1] == word) and \n",
    "                (diag2 == word or diag2[::-1] == word)):\n",
    "                #print(\"CHECK\")\n",
    "                count += 1\n",
    "        return count\n",
    "    \n",
    "    for row in range(len(data)):\n",
    "        for col in range(len(data[0])):\n",
    "            if data[row][col]==\"A\":\n",
    "                #print(f\"row : {row+1} col : {col+1}\")\n",
    "                total+=search_X(row,col,\"MAS\")\n",
    "                \n",
    "    \n",
    "    return total\n",
    "\n",
    "\n",
    "with open('day4input.txt', 'r') as f:\n",
    "    data=f.read()\n",
    "    data=data.split()\n",
    "    \n",
    "\n",
    "test=test.split()\n",
    "count_X_mas(data,word_to_find)#p2 1998\n"
   ]
  }
 ],
 "metadata": {
  "kernelspec": {
   "display_name": "Python 3",
   "language": "python",
   "name": "python3"
  },
  "language_info": {
   "codemirror_mode": {
    "name": "ipython",
    "version": 3
   },
   "file_extension": ".py",
   "mimetype": "text/x-python",
   "name": "python",
   "nbconvert_exporter": "python",
   "pygments_lexer": "ipython3",
   "version": "3.11.9"
  }
 },
 "nbformat": 4,
 "nbformat_minor": 2
}
