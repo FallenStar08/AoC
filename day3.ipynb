{
 "cells": [
  {
   "cell_type": "code",
   "execution_count": 102,
   "metadata": {},
   "outputs": [
    {
     "name": "stdout",
     "output_type": "stream",
     "text": [
      "We got 444 matches!\n"
     ]
    }
   ],
   "source": [
    "\n",
    "import re,math\n",
    "\n",
    "\n",
    "REGEX = r'\\bmul\\b\\(\\d+,\\d+\\)'\n",
    "REMOVEX = r\"don't\\(\\)(.*?)do\\(\\)(.*?)\"\n",
    "matches=[]\n",
    "with open('day3input.txt', 'r') as f:\n",
    "    wholethingy=f.read()\n",
    "    wholethingy=(re.sub(REMOVEX,'',wholethingy, flags=re.DOTALL))\n",
    "    #print(wholethingy)\n",
    "    matches=(re.findall(REGEX, wholethingy))\n",
    "\n",
    "print(f\"We got {len(matches)} matches!\")\n",
    "    \n",
    "\n"
   ]
  },
  {
   "cell_type": "code",
   "execution_count": 103,
   "metadata": {},
   "outputs": [
    {
     "name": "stdout",
     "output_type": "stream",
     "text": [
      "Total is : 112272912\n"
     ]
    }
   ],
   "source": [
    "total=0\n",
    "for match in matches:\n",
    "    match = re.sub(r'[(),\\bmul\\b]', ' ', match)\n",
    "    match=match.split()\n",
    "    match=list(map(int,match))\n",
    "    total+=math.prod(match)\n",
    "    \n",
    "print(f\"Total is : {total}\") \n",
    "\n",
    "#p1 : 175015740\n",
    "#p2 : 112272912"
   ]
  }
 ],
 "metadata": {
  "kernelspec": {
   "display_name": "Python 3",
   "language": "python",
   "name": "python3"
  },
  "language_info": {
   "codemirror_mode": {
    "name": "ipython",
    "version": 3
   },
   "file_extension": ".py",
   "mimetype": "text/x-python",
   "name": "python",
   "nbconvert_exporter": "python",
   "pygments_lexer": "ipython3",
   "version": "3.11.9"
  }
 },
 "nbformat": 4,
 "nbformat_minor": 2
}
